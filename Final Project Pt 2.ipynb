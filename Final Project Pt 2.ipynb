{
 "cells": [
  {
   "cell_type": "code",
   "execution_count": null,
   "id": "1c7baaae",
   "metadata": {},
   "outputs": [],
   "source": [
    "import numpy as np\n",
    "import sep"
   ]
  },
  {
   "cell_type": "markdown",
   "id": "c975cc4e",
   "metadata": {},
   "source": [
    "Getting the modules to create the image and setting up the basic parameters:"
   ]
  },
  {
   "cell_type": "code",
   "execution_count": null,
   "id": "ca657dc9",
   "metadata": {},
   "outputs": [],
   "source": [
    "# additional setup for reading the test image and displaying plots\n",
    "import astropy.io.fits\n",
    "import matplotlib.pyplot as plt\n",
    "from matplotlib import rcParams\n",
    "\n",
    "%matplotlib inline\n",
    "\n",
    "rcParams['figure.figsize'] = [10., 8.]"
   ]
  },
  {
   "cell_type": "markdown",
   "id": "5bc55928",
   "metadata": {},
   "source": [
    "Getting the data from the file:"
   ]
  },
  {
   "cell_type": "code",
   "execution_count": null,
   "id": "153daef8",
   "metadata": {},
   "outputs": [],
   "source": [
    "# read image into standard 2-d numpy array\n",
    "data = astropy.io.fits.getdata(r\"C:\\Users\\emmag\\Documents\\astro 19\\hlsp_hudf12_hst_wfc3ir_udfmain_f105w_v1.0_drz.fits\")"
   ]
  },
  {
   "cell_type": "markdown",
   "id": "eb678a0d",
   "metadata": {},
   "source": [
    "Turning the file into a grayscale image:"
   ]
  },
  {
   "cell_type": "code",
   "execution_count": null,
   "id": "c7499aa5",
   "metadata": {
    "scrolled": false
   },
   "outputs": [],
   "source": [
    "m, s = np.mean(data), np.std(data)\n",
    "plt.imshow(data, interpolation='nearest', cmap='gray', vmin=m-s, vmax=m+s, origin='lower')\n",
    "plt.colorbar();\n",
    "plt.savefig('HUDF_1.png')"
   ]
  },
  {
   "cell_type": "markdown",
   "id": "32747313",
   "metadata": {},
   "source": [
    "Getting the general \"color\" of the background. I had to switch the byte order, apparently."
   ]
  },
  {
   "cell_type": "code",
   "execution_count": null,
   "id": "786e3561",
   "metadata": {},
   "outputs": [],
   "source": [
    "data = data.byteswap().newbyteorder()\n",
    "bkg = sep.Background(data)"
   ]
  },
  {
   "cell_type": "markdown",
   "id": "a8097e2e",
   "metadata": {},
   "source": [
    "Finding the mean and noise of the background \"color\":"
   ]
  },
  {
   "cell_type": "code",
   "execution_count": null,
   "id": "7ca213c8",
   "metadata": {},
   "outputs": [],
   "source": [
    "print(bkg.globalback)\n",
    "print(bkg.globalrms)"
   ]
  },
  {
   "cell_type": "markdown",
   "id": "e2981a66",
   "metadata": {},
   "source": [
    "Evaluating the background as a 2d array:"
   ]
  },
  {
   "cell_type": "code",
   "execution_count": null,
   "id": "2b12710b",
   "metadata": {},
   "outputs": [],
   "source": [
    "bkg_image = bkg.back()"
   ]
  },
  {
   "cell_type": "markdown",
   "id": "368e0e69",
   "metadata": {},
   "source": [
    "Showing the background after all the stuff done to it:"
   ]
  },
  {
   "cell_type": "code",
   "execution_count": null,
   "id": "0e804b49",
   "metadata": {},
   "outputs": [],
   "source": [
    "plt.imshow(bkg_image, interpolation='nearest', cmap='gray', origin='lower')\n",
    "plt.colorbar();\n",
    "plt.savefig('HUDF_2.png')"
   ]
  },
  {
   "cell_type": "markdown",
   "id": "81ff5881",
   "metadata": {},
   "source": [
    "This time, making the background NOISE into a 2d array:"
   ]
  },
  {
   "cell_type": "code",
   "execution_count": null,
   "id": "a0cea668",
   "metadata": {},
   "outputs": [],
   "source": [
    "bkg_rms = bkg.rms()"
   ]
  },
  {
   "cell_type": "markdown",
   "id": "87185fe1",
   "metadata": {},
   "source": [
    "Showing the noise:"
   ]
  },
  {
   "cell_type": "code",
   "execution_count": null,
   "id": "fe3616dc",
   "metadata": {},
   "outputs": [],
   "source": [
    "plt.imshow(bkg_rms, interpolation='nearest', cmap='gray', origin='lower')\n",
    "plt.colorbar();\n",
    "plt.savefig('HUDF_3.png')"
   ]
  },
  {
   "cell_type": "markdown",
   "id": "10ae168c",
   "metadata": {},
   "source": [
    "Subtract the background from the initial data in order to isolate the objects:"
   ]
  },
  {
   "cell_type": "code",
   "execution_count": null,
   "id": "4deee94b",
   "metadata": {},
   "outputs": [],
   "source": [
    "data_sub = data - bkg\n",
    "objects = sep.extract(data_sub, 1.5, err=bkg.globalrms)"
   ]
  },
  {
   "cell_type": "markdown",
   "id": "c6e41f5d",
   "metadata": {},
   "source": [
    "Finding how many objects there are in the image:"
   ]
  },
  {
   "cell_type": "code",
   "execution_count": null,
   "id": "2c111504",
   "metadata": {},
   "outputs": [],
   "source": [
    "len(objects)"
   ]
  },
  {
   "cell_type": "markdown",
   "id": "51857b9d",
   "metadata": {},
   "source": [
    "Plotting the initial image again, except this time circling all of the objects:"
   ]
  },
  {
   "cell_type": "code",
   "execution_count": null,
   "id": "635c46b1",
   "metadata": {},
   "outputs": [],
   "source": [
    "from matplotlib.patches import Ellipse\n",
    "\n",
    "fig, ax = plt.subplots()\n",
    "m, s = np.mean(data_sub), np.std(data_sub)\n",
    "im = ax.imshow(data_sub, interpolation='nearest', cmap='gray',\n",
    "               vmin=m-s, vmax=m+s, origin='lower')\n",
    "\n",
    "# plot an ellipse for each object\n",
    "for i in range(len(objects)):\n",
    "    e = Ellipse(xy=(objects['x'][i], objects['y'][i]),\n",
    "                width=6*objects['a'][i],\n",
    "                height=6*objects['b'][i],\n",
    "                angle=objects['theta'][i] * 180. / np.pi)\n",
    "    e.set_facecolor('none')\n",
    "    e.set_edgecolor('red')\n",
    "    ax.add_artist(e)\n",
    "plt.savefig('HUDF_4')"
   ]
  },
  {
   "cell_type": "code",
   "execution_count": null,
   "id": "f5d0ed22",
   "metadata": {},
   "outputs": [],
   "source": [
    "flux, fluxerr, flag = sep.sum_circle(data_sub, objects['x'], objects['y'],\n",
    "                                     3.0, err=bkg.globalrms, gain=1.0)"
   ]
  },
  {
   "cell_type": "code",
   "execution_count": null,
   "id": "afa2ec6a",
   "metadata": {},
   "outputs": [],
   "source": [
    "plt.figure(figsize=(10,5))\n",
    "width=0.01\n",
    "histmin=np.floor(min(flux))\n",
    "histmax=np.ceil(max(flux))+width\n",
    "bins=100\n",
    "plt.hist(flux,bins=bins,alpha=.5,edgecolor='black',range=[0,1])\n",
    "plt.xlabel('Flux')\n",
    "plt.xticks(ticks=(np.arange(0,1.2,.2)))\n",
    "plt.savefig('hist_flux.png')\n",
    "plt.show()"
   ]
  },
  {
   "cell_type": "code",
   "execution_count": null,
   "id": "501a9dac",
   "metadata": {},
   "outputs": [],
   "source": [
    "print(f\"The mean of the fluxes is {np.mean(flux)}\")\n",
    "print(f\"The median of the fluxes is {np.median(flux)}\")\n",
    "print(f\"The standard deviation of the fluxes is {np.std(flux)}\")"
   ]
  },
  {
   "cell_type": "markdown",
   "id": "6888b4a2",
   "metadata": {},
   "source": [
    "Next step: find the outlier"
   ]
  },
  {
   "cell_type": "code",
   "execution_count": null,
   "id": "390f4389",
   "metadata": {},
   "outputs": [],
   "source": [
    "print(f\"The largest outlier has a flux of {max(flux)}. Wow!\")\n",
    "print(f\"It is {max(flux)/np.std(flux)} standard deviations away from the mean.\")\n",
    "print(\"The location of it on the image is after the false-color image--it was hard to understand on the washed-out gray one.\")"
   ]
  },
  {
   "cell_type": "markdown",
   "id": "0379790a",
   "metadata": {},
   "source": [
    "This rescales the image: whereas before it looked totally black, this way we can actually see what's going on:"
   ]
  },
  {
   "cell_type": "code",
   "execution_count": null,
   "id": "48a381e4",
   "metadata": {},
   "outputs": [],
   "source": [
    "def rescale_img(data):\n",
    "    pdata_tmp = data.copy()\n",
    "    mean = np.nanmean(pdata_tmp)\n",
    "    vplmin = mean / 2.\n",
    "    vpmin = np.log10(vplmin)\n",
    "    vpmax = np.log10(mean * 100.)\n",
    "    pdata_tmp[pdata_tmp < vplmin] = vplmin\n",
    "    pdata_tmp = np.log10(pdata_tmp)\n",
    "    return pdata_tmp, vpmin, vpmax"
   ]
  },
  {
   "cell_type": "markdown",
   "id": "f6d38113",
   "metadata": {},
   "source": [
    "I'm re-reading the first file along with the additional two images so I can have them nice all together:"
   ]
  },
  {
   "cell_type": "code",
   "execution_count": null,
   "id": "60553e03",
   "metadata": {},
   "outputs": [],
   "source": [
    "data1 = astropy.io.fits.getdata(r\"C:\\Users\\emmag\\Documents\\astro 19\\hlsp_hudf12_hst_wfc3ir_udfmain_f105w_v1.0_drz.fits\")\n",
    "data2 = astropy.io.fits.getdata(r\"C:\\Users\\emmag\\Documents\\astro 19\\hlsp_hudf12_hst_wfc3ir_udfmain_f125w_v1.0_drz.fits\")\n",
    "data3 = astropy.io.fits.getdata(r\"C:\\Users\\emmag\\Documents\\astro 19\\hlsp_hudf12_hst_wfc3ir_udfmain_f160w_v1.0_drz.fits\")"
   ]
  },
  {
   "cell_type": "markdown",
   "id": "f3c4955d",
   "metadata": {},
   "source": [
    "Gonna be real, I'm not sure what this does? I just obediently copied it from the slides. I DO know that it's redefining the maximums and minimums for...some reason. "
   ]
  },
  {
   "cell_type": "code",
   "execution_count": null,
   "id": "da6f1821",
   "metadata": {},
   "outputs": [],
   "source": [
    "res1, min1, max1 = rescale_img(data1)\n",
    "res2, min2, max2 = rescale_img(data2)\n",
    "res3, min3, max3 = rescale_img(data3)\n",
    "\n",
    "res1[res1 < min1] = min1\n",
    "res1[res1 > max1] = max1\n",
    "res2[res2 < min2] = min2\n",
    "res2[res2 > max2] = max2\n",
    "res3[res3 < min3] = min3\n",
    "res3[res3 > max3] = max3"
   ]
  },
  {
   "cell_type": "markdown",
   "id": "4fde1a74",
   "metadata": {},
   "source": [
    "This assigns R, B, or G to each image."
   ]
  },
  {
   "cell_type": "code",
   "execution_count": null,
   "id": "c1b18f52",
   "metadata": {},
   "outputs": [],
   "source": [
    "rgb = np.zeros((res1.shape[0], res1.shape[1], 3))\n",
    "rgb[:,:,0] = (res1 - min1) / (max1 - min1)\n",
    "rgb[:,:,1] = (res2 - min2) / (max2 - min2)\n",
    "rgb[:,:,2] = (res3 - min3) / (max3 - min3)"
   ]
  },
  {
   "cell_type": "markdown",
   "id": "737a7168",
   "metadata": {},
   "source": [
    "And it's finally time to plot the image!"
   ]
  },
  {
   "cell_type": "code",
   "execution_count": null,
   "id": "da6d482a",
   "metadata": {},
   "outputs": [],
   "source": [
    "f, ax = plt.subplots(1, 1, figsize=(20, 20))\n",
    "ax.axis('off')\n",
    "ax.imshow(rgb)\n",
    "\n",
    "plt.savefig(\"falsecolor.png\", format='png')"
   ]
  },
  {
   "cell_type": "markdown",
   "id": "b6b01acc",
   "metadata": {},
   "source": [
    "This is where the outlier is on the image. Should've known it was the one with sparkle lines! (That's the technical term.)"
   ]
  },
  {
   "cell_type": "code",
   "execution_count": null,
   "id": "22730ff5",
   "metadata": {},
   "outputs": [],
   "source": [
    "f, ax = plt.subplots(1, 1, figsize=(20, 20))\n",
    "ax.axis('off')\n",
    "ax.imshow(rgb)\n",
    "\n",
    "# plot an ellipse for each object\n",
    "i = flux.argmax()\n",
    "e = Ellipse(xy=(objects['x'][i], objects['y'][i]),\n",
    "             width=6*objects['a'][i],\n",
    "             height=6*objects['b'][i],\n",
    "             angle=objects['theta'][i] * 180. / np.pi)\n",
    "e.set_facecolor('none')\n",
    "e.set_edgecolor('red')\n",
    "ax.add_artist(e)\n",
    "plt.savefig('HUDF_5')"
   ]
  }
 ],
 "metadata": {
  "kernelspec": {
   "display_name": "Python 3 (ipykernel)",
   "language": "python",
   "name": "python3"
  },
  "language_info": {
   "codemirror_mode": {
    "name": "ipython",
    "version": 3
   },
   "file_extension": ".py",
   "mimetype": "text/x-python",
   "name": "python",
   "nbconvert_exporter": "python",
   "pygments_lexer": "ipython3",
   "version": "3.10.9"
  }
 },
 "nbformat": 4,
 "nbformat_minor": 5
}
