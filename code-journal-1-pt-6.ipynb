{
 "cells": [
  {
   "cell_type": "markdown",
   "id": "92fc3a97",
   "metadata": {},
   "source": [
    "This pulls in numpy so i can use sine, cosine, and linspace."
   ]
  },
  {
   "cell_type": "code",
   "execution_count": 1,
   "id": "b37da39c",
   "metadata": {},
   "outputs": [],
   "source": [
    "import numpy as np"
   ]
  },
  {
   "cell_type": "markdown",
   "id": "30048cf6",
   "metadata": {},
   "source": [
    "This turns sine and cosine into functions I can call."
   ]
  },
  {
   "cell_type": "code",
   "execution_count": 3,
   "id": "0168e4e2",
   "metadata": {},
   "outputs": [],
   "source": [
    "def sin(x):\n",
    "    return np.sin(x)\n",
    "def cos(x):\n",
    "     return np.cos(x)"
   ]
  },
  {
   "cell_type": "markdown",
   "id": "7a5bda05",
   "metadata": {},
   "source": [
    "This tabulates x from 0 to 2pi with a 1000 steps, and then feeds that through the functions above."
   ]
  },
  {
   "cell_type": "code",
   "execution_count": 4,
   "id": "cc8e1984",
   "metadata": {},
   "outputs": [],
   "source": [
    "x = np.linspace(0,2*np.pi,1000)\n",
    "y=sin(x)\n",
    "z=cos(x)"
   ]
  },
  {
   "cell_type": "markdown",
   "id": "348447b2",
   "metadata": {},
   "source": [
    "This is a for loop turning those crazy long lists into three columns with just the first ten values. "
   ]
  },
  {
   "cell_type": "code",
   "execution_count": 24,
   "id": "53074d6f",
   "metadata": {},
   "outputs": [
    {
     "name": "stdout",
     "output_type": "stream",
     "text": [
      "0.0                                   0.0                            1.0\n",
      "0.006289474781961547           0.006289433316067751             0.9999802213186832\n",
      "0.012578949563923095           0.012578617838741058             0.9999208860571255\n",
      "0.018868424345884642            0.01886730478446709             0.9998219965624732\n",
      "0.02515789912784619           0.025155245389375847             0.9996835567465339\n",
      "0.03144737390980774             0.0314421909191206             0.9995055720856215\n",
      "0.037736848691769284            0.03772789267871718               0.99928804962034\n",
      "0.04402632347373083            0.04401210202238166             0.9990309979553044\n",
      "0.05031579825569238            0.05029457036336618             0.9987344272588006\n",
      "0.056605273037653926           0.056575049183792345             0.9983983492623831\n"
     ]
    }
   ],
   "source": [
    "for row in zip(x[0:10], y[0:10], z[0:10]):\n",
    "    print (\"{0:<10} {1:>30} {2:>30}\".format(*row))"
   ]
  }
 ],
 "metadata": {
  "kernelspec": {
   "display_name": "Python 3 (ipykernel)",
   "language": "python",
   "name": "python3"
  },
  "language_info": {
   "codemirror_mode": {
    "name": "ipython",
    "version": 3
   },
   "file_extension": ".py",
   "mimetype": "text/x-python",
   "name": "python",
   "nbconvert_exporter": "python",
   "pygments_lexer": "ipython3",
   "version": "3.10.9"
  }
 },
 "nbformat": 4,
 "nbformat_minor": 5
}
